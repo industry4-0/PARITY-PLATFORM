{
 "cells": [
  {
   "cell_type": "code",
   "execution_count": 14,
   "metadata": {},
   "outputs": [],
   "source": [
    "import pandas as pd\n",
    "import xgboost as xgb\n",
    "import numpy as np\n",
    "from numpy import argmax\n",
    "from sklearn.metrics import accuracy_score\n",
    "from sklearn.preprocessing import LabelEncoder\n",
    "from sklearn.model_selection import train_test_split\n",
    "from sklearn.metrics import mean_squared_error\n",
    "from sklearn.preprocessing import OneHotEncoder\n",
    "from sklearn.preprocessing import Imputer\n",
    "from sklearn.model_selection import train_test_split\n",
    "#from sklearn.model_selection import StratifiedKFold # import KFold\n",
    "from sklearn.model_selection import cross_val_score\n",
    "from sklearn.metrics import auc, accuracy_score, confusion_matrix, mean_squared_error\n",
    "from sklearn.model_selection import cross_val_score, GridSearchCV, KFold, RandomizedSearchCV, train_test_split"
   ]
  },
  {
   "cell_type": "code",
   "execution_count": 15,
   "metadata": {},
   "outputs": [],
   "source": [
    "# Read data\n",
    "dataset = pd.read_csv('C:/Users/kosta/Documents/Industry_4.0/PredictionModelPrototype/MarketPriceData.csv', delimiter=\",\")\n",
    "\n",
    "# Transform all categorical values to integers\n",
    "for key,value in dataset.iteritems():\n",
    "        #for key in dataset.columns:\n",
    "            if dataset[key].dtype == type(object):\n",
    "                le = LabelEncoder()\n",
    "                dataset[key] = le.fit_transform(dataset[key].astype(str))\n"
   ]
  },
  {
   "cell_type": "code",
   "execution_count": 16,
   "metadata": {},
   "outputs": [],
   "source": [
    "\n",
    "# Check and replace missing values with the mean of each column\n",
    "for key,value in dataset.iteritems():\n",
    "    for key in dataset.columns:\n",
    "            if dataset[key].isnull().values.any():\n",
    "             dataset[key] =  dataset[key].fillna(dataset[key].mean())\n",
    "            \n",
    "# In case price_fixed has NaNs replace them with the mean of SMP(MW/h)\n",
    "if dataset[\"PRICE_FIXED\"].isnull().values.any():\n",
    "        dataset[key] =  dataset[key].fillna(dataset['SMP(€/MWH)'].mean())\n",
    "        \n"
   ]
  },
  {
   "cell_type": "code",
   "execution_count": 17,
   "metadata": {},
   "outputs": [],
   "source": [
    "# All columns with the last as X, and last column for Y\n",
    "X = np.array(dataset.iloc[:,:-1])\n",
    "y = np.array(dataset.iloc[:,-1])\n",
    "\n",
    "# Convert the dataset into an optimized data structure\n",
    "data_dmatrix = xgb.DMatrix(data=X,label=y)\n",
    "\n",
    "# Split data\n",
    "X_train, X_test, y_train, y_test = train_test_split(X, y, test_size=0.2, random_state=123)"
   ]
  },
  {
   "cell_type": "code",
   "execution_count": 18,
   "metadata": {},
   "outputs": [
    {
     "name": "stdout",
     "output_type": "stream",
     "text": [
      "[22:32:31] WARNING: C:/Jenkins/workspace/xgboost-win64_release_0.90/src/objective/regression_obj.cu:152: reg:linear is now deprecated in favor of reg:squarederror.\n",
      "[22:32:32] WARNING: C:/Jenkins/workspace/xgboost-win64_release_0.90/src/objective/regression_obj.cu:152: reg:linear is now deprecated in favor of reg:squarederror.\n",
      "[22:32:32] WARNING: C:/Jenkins/workspace/xgboost-win64_release_0.90/src/objective/regression_obj.cu:152: reg:linear is now deprecated in favor of reg:squarederror.\n",
      "[22:32:32] WARNING: C:/Jenkins/workspace/xgboost-win64_release_0.90/src/objective/regression_obj.cu:152: reg:linear is now deprecated in favor of reg:squarederror.\n",
      "[22:32:32] WARNING: C:/Jenkins/workspace/xgboost-win64_release_0.90/src/objective/regression_obj.cu:152: reg:linear is now deprecated in favor of reg:squarederror.\n",
      "[0.00151474 0.00151092 0.00151092 0.00151092 0.00151092]\n",
      "Accuracy: 0.15% (0.00%)\n"
     ]
    }
   ],
   "source": [
    "# K - Fold Cross validation\n",
    "\n",
    "\n",
    "#--------- FIRST ATTEMPT----------#\n",
    "# equal weight assignment over provider fixed classes\n",
    "\"\"\"weight = 100 / len(dataset['PRICE_FIXED'].unique())\n",
    "\n",
    "model = xgb.XGBClassifier(objective ='multi:softprob', colsample_bytree = 0.3, learning_rate = 0.1,\n",
    "                          max_depth = 3, alpha = 10, n_estimators = 500, early_stopping_rounds=10,\n",
    "                          sample_weight= weight, num_class = 3)\n",
    "\n",
    "kfold = StratifiedKFold(n_splits=5, random_state=7)\n",
    "results = cross_val_score(model, X_train, y_train, cv=kfold)\n",
    "print(\"Accuracy: %.2f%% (%.2f%%)\" % (results.mean()*100, results.std()*100))\"\"\"\n",
    "\n",
    "#--------SECOND ATTEMPT---------\n",
    "kfold = KFold(n_splits=5, shuffle=True, random_state=42)\n",
    "\n",
    "scores = []\n",
    "\n",
    "for train_index, test_index in kfold.split(X):   \n",
    "    X_train, X_test = X[train_index], X[test_index]\n",
    "    y_train, y_test = y[train_index], y[test_index]\n",
    "    \n",
    "    xgb_model = xgb.XGBRegressor(objective=\"reg:linear\")\n",
    "    xgb_model.fit(X_train, y_train)\n",
    "    \n",
    "    y_pred = xgb_model.predict(X_test)\n",
    "    \n",
    "    scores.append(mean_squared_error(y_test, y_pred))\n",
    "    \n",
    "#score an acc. percentage\n",
    "print(np.sqrt(scores))\n",
    "print(\"Accuracy: %.2f%% (%.2f%%)\" % (np.sqrt(scores).mean()*100, np.sqrt(scores).std()*100))"
   ]
  },
  {
   "cell_type": "code",
   "execution_count": 19,
   "metadata": {},
   "outputs": [
    {
     "name": "stdout",
     "output_type": "stream",
     "text": [
      "[22:32:32] WARNING: C:/Jenkins/workspace/xgboost-win64_release_0.90/src/objective/regression_obj.cu:152: reg:linear is now deprecated in favor of reg:squarederror.\n"
     ]
    },
    {
     "data": {
      "text/plain": [
       "XGBRegressor(base_score=0.5, booster='gbtree', colsample_bylevel=1,\n",
       "             colsample_bynode=1, colsample_bytree=1, gamma=0,\n",
       "             importance_type='gain', learning_rate=0.1, max_delta_step=0,\n",
       "             max_depth=3, min_child_weight=1, missing=None, n_estimators=100,\n",
       "             n_jobs=1, nthread=None, objective='reg:linear', random_state=0,\n",
       "             reg_alpha=0, reg_lambda=1, scale_pos_weight=1, seed=None,\n",
       "             silent=None, subsample=1, verbosity=1)"
      ]
     },
     "execution_count": 19,
     "metadata": {},
     "output_type": "execute_result"
    }
   ],
   "source": [
    "#model.fit(X_train,y_train)\n",
    "xgb_model.fit(X_train,y_train)"
   ]
  }
 ],
 "metadata": {
  "kernelspec": {
   "display_name": "Python 3",
   "language": "python",
   "name": "python3"
  },
  "language_info": {
   "codemirror_mode": {
    "name": "ipython",
    "version": 3
   },
   "file_extension": ".py",
   "mimetype": "text/x-python",
   "name": "python",
   "nbconvert_exporter": "python",
   "pygments_lexer": "ipython3",
   "version": "3.7.4"
  }
 },
 "nbformat": 4,
 "nbformat_minor": 2
}
